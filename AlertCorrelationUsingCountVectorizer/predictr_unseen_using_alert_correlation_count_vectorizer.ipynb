{
 "cells": [
  {
   "cell_type": "code",
   "execution_count": 1,
   "metadata": {},
   "outputs": [],
   "source": [
    "import pandas as pd\n",
    "pd.set_option('display.max_columns', None)\n",
    "pd.set_option('display.max_colwidth', 200)\n"
   ]
  },
  {
   "cell_type": "code",
   "execution_count": 2,
   "metadata": {},
   "outputs": [],
   "source": [
    "# Custom imports\n",
    "\n",
    "from data_helper import load_data, load_true_labels, add_binary_true_labels_to_dataset, add_labels_to_dataset"
   ]
  },
  {
   "cell_type": "code",
   "execution_count": 5,
   "metadata": {},
   "outputs": [],
   "source": [
    "# PATHS - Change these to use different data from the dataset!\n",
    "\n",
    "# Trained with santos | inet-firewall | dnsmasq.log\n",
    "# Test using unseen russellmitchell\n",
    "path_russellmitchell = \"../../AIT_LD-v2/russellmitchell\"\n",
    "path_log_file = \"/gather/inet-firewall/logs/dnsmasq.log\"\n",
    "path_true_labels_file = \"/labels/inet-firewall/logs/dnsmasq.log\""
   ]
  },
  {
   "cell_type": "code",
   "execution_count": 6,
   "metadata": {},
   "outputs": [
    {
     "name": "stdout",
     "output_type": "stream",
     "text": [
      "144                           Jan 21 00:04:43 dnsmasq[3468]: cached e6410.d.akamaiedge.net is NODATA-IPv6\n",
      "145                    Jan 21 00:04:43 dnsmasq[3468]: query[AAAA] e6410.d.akamaiedge.net from 10.143.1.78\n",
      "146                           Jan 21 00:04:43 dnsmasq[3468]: cached e6410.d.akamaiedge.net is NODATA-IPv6\n",
      "147                    Jan 21 00:04:43 dnsmasq[3468]: query[AAAA] e6410.d.akamaiedge.net from 10.143.1.78\n",
      "148                           Jan 21 00:04:43 dnsmasq[3468]: cached e6410.d.akamaiedge.net is NODATA-IPv6\n",
      "149                    Jan 21 00:04:43 dnsmasq[3468]: query[AAAA] e6410.d.akamaiedge.net from 10.143.1.78\n",
      "150                           Jan 21 00:04:43 dnsmasq[3468]: cached e6410.d.akamaiedge.net is NODATA-IPv6\n",
      "151    Jan 21 00:04:43 dnsmasq[3468]: query[A] static-whale.pstatic.net.static.gscdn.net from 10.143.1.78\n"
     ]
    }
   ],
   "source": [
    "# Load the AIT log data set v2\n",
    "df_raw = load_data(path_russellmitchell + path_log_file)\n",
    "\n",
    "# Display the first few rows of the data set\n",
    "#df_raw.head(5)\n",
    "\n",
    "# Display the entries corresponding to attack (rows 144-151)\n",
    "print(df_raw.iloc[144:152][0].to_string())"
   ]
  },
  {
   "cell_type": "code",
   "execution_count": 7,
   "metadata": {},
   "outputs": [
    {
     "data": {
      "text/html": [
       "<div>\n",
       "<style scoped>\n",
       "    .dataframe tbody tr th:only-of-type {\n",
       "        vertical-align: middle;\n",
       "    }\n",
       "\n",
       "    .dataframe tbody tr th {\n",
       "        vertical-align: top;\n",
       "    }\n",
       "\n",
       "    .dataframe thead th {\n",
       "        text-align: right;\n",
       "    }\n",
       "</style>\n",
       "<table border=\"1\" class=\"dataframe\">\n",
       "  <thead>\n",
       "    <tr style=\"text-align: right;\">\n",
       "      <th></th>\n",
       "      <th>line</th>\n",
       "      <th>labels</th>\n",
       "      <th>rules</th>\n",
       "    </tr>\n",
       "  </thead>\n",
       "  <tbody>\n",
       "    <tr>\n",
       "      <th>0</th>\n",
       "      <td>1</td>\n",
       "      <td>[dnsteal, attacker, dnsteal-received]</td>\n",
       "      <td>{'dnsteal': ['dnsteal.domain.match'], 'attacker': ['dnsteal.domain.match'], 'dnsteal-received': ['dnsteal.domain.received']}</td>\n",
       "    </tr>\n",
       "    <tr>\n",
       "      <th>1</th>\n",
       "      <td>2</td>\n",
       "      <td>[dnsteal, attacker, dnsteal-received]</td>\n",
       "      <td>{'dnsteal': ['dnsteal.domain.match'], 'attacker': ['dnsteal.domain.match'], 'dnsteal-received': ['dnsteal.domain.received']}</td>\n",
       "    </tr>\n",
       "    <tr>\n",
       "      <th>2</th>\n",
       "      <td>3</td>\n",
       "      <td>[dnsteal, attacker, dnsteal-received]</td>\n",
       "      <td>{'dnsteal': ['dnsteal.domain.match'], 'attacker': ['dnsteal.domain.match'], 'dnsteal-received': ['dnsteal.domain.received']}</td>\n",
       "    </tr>\n",
       "    <tr>\n",
       "      <th>3</th>\n",
       "      <td>4</td>\n",
       "      <td>[dnsteal, attacker, dnsteal-received]</td>\n",
       "      <td>{'dnsteal': ['dnsteal.domain.match'], 'attacker': ['dnsteal.domain.match'], 'dnsteal-received': ['dnsteal.domain.received']}</td>\n",
       "    </tr>\n",
       "    <tr>\n",
       "      <th>4</th>\n",
       "      <td>5</td>\n",
       "      <td>[dnsteal, attacker, dnsteal-received]</td>\n",
       "      <td>{'dnsteal': ['dnsteal.domain.match'], 'attacker': ['dnsteal.domain.match'], 'dnsteal-received': ['dnsteal.domain.received']}</td>\n",
       "    </tr>\n",
       "    <tr>\n",
       "      <th>5</th>\n",
       "      <td>6</td>\n",
       "      <td>[dnsteal, attacker, dnsteal-received]</td>\n",
       "      <td>{'dnsteal': ['dnsteal.domain.match'], 'attacker': ['dnsteal.domain.match'], 'dnsteal-received': ['dnsteal.domain.received']}</td>\n",
       "    </tr>\n",
       "    <tr>\n",
       "      <th>6</th>\n",
       "      <td>7</td>\n",
       "      <td>[dnsteal, attacker, dnsteal-received]</td>\n",
       "      <td>{'dnsteal': ['dnsteal.domain.match'], 'attacker': ['dnsteal.domain.match'], 'dnsteal-received': ['dnsteal.domain.received']}</td>\n",
       "    </tr>\n",
       "    <tr>\n",
       "      <th>7</th>\n",
       "      <td>8</td>\n",
       "      <td>[dnsteal, attacker, dnsteal-received]</td>\n",
       "      <td>{'dnsteal': ['dnsteal.domain.match'], 'attacker': ['dnsteal.domain.match'], 'dnsteal-received': ['dnsteal.domain.received']}</td>\n",
       "    </tr>\n",
       "    <tr>\n",
       "      <th>8</th>\n",
       "      <td>9</td>\n",
       "      <td>[dnsteal, attacker, dnsteal-received]</td>\n",
       "      <td>{'dnsteal': ['dnsteal.domain.match'], 'attacker': ['dnsteal.domain.match'], 'dnsteal-received': ['dnsteal.domain.received']}</td>\n",
       "    </tr>\n",
       "    <tr>\n",
       "      <th>9</th>\n",
       "      <td>10</td>\n",
       "      <td>[dnsteal, attacker, dnsteal-received]</td>\n",
       "      <td>{'dnsteal': ['dnsteal.domain.match'], 'attacker': ['dnsteal.domain.match'], 'dnsteal-received': ['dnsteal.domain.received']}</td>\n",
       "    </tr>\n",
       "  </tbody>\n",
       "</table>\n",
       "</div>"
      ],
      "text/plain": [
       "   line                                 labels  \\\n",
       "0     1  [dnsteal, attacker, dnsteal-received]   \n",
       "1     2  [dnsteal, attacker, dnsteal-received]   \n",
       "2     3  [dnsteal, attacker, dnsteal-received]   \n",
       "3     4  [dnsteal, attacker, dnsteal-received]   \n",
       "4     5  [dnsteal, attacker, dnsteal-received]   \n",
       "5     6  [dnsteal, attacker, dnsteal-received]   \n",
       "6     7  [dnsteal, attacker, dnsteal-received]   \n",
       "7     8  [dnsteal, attacker, dnsteal-received]   \n",
       "8     9  [dnsteal, attacker, dnsteal-received]   \n",
       "9    10  [dnsteal, attacker, dnsteal-received]   \n",
       "\n",
       "                                                                                                                          rules  \n",
       "0  {'dnsteal': ['dnsteal.domain.match'], 'attacker': ['dnsteal.domain.match'], 'dnsteal-received': ['dnsteal.domain.received']}  \n",
       "1  {'dnsteal': ['dnsteal.domain.match'], 'attacker': ['dnsteal.domain.match'], 'dnsteal-received': ['dnsteal.domain.received']}  \n",
       "2  {'dnsteal': ['dnsteal.domain.match'], 'attacker': ['dnsteal.domain.match'], 'dnsteal-received': ['dnsteal.domain.received']}  \n",
       "3  {'dnsteal': ['dnsteal.domain.match'], 'attacker': ['dnsteal.domain.match'], 'dnsteal-received': ['dnsteal.domain.received']}  \n",
       "4  {'dnsteal': ['dnsteal.domain.match'], 'attacker': ['dnsteal.domain.match'], 'dnsteal-received': ['dnsteal.domain.received']}  \n",
       "5  {'dnsteal': ['dnsteal.domain.match'], 'attacker': ['dnsteal.domain.match'], 'dnsteal-received': ['dnsteal.domain.received']}  \n",
       "6  {'dnsteal': ['dnsteal.domain.match'], 'attacker': ['dnsteal.domain.match'], 'dnsteal-received': ['dnsteal.domain.received']}  \n",
       "7  {'dnsteal': ['dnsteal.domain.match'], 'attacker': ['dnsteal.domain.match'], 'dnsteal-received': ['dnsteal.domain.received']}  \n",
       "8  {'dnsteal': ['dnsteal.domain.match'], 'attacker': ['dnsteal.domain.match'], 'dnsteal-received': ['dnsteal.domain.received']}  \n",
       "9  {'dnsteal': ['dnsteal.domain.match'], 'attacker': ['dnsteal.domain.match'], 'dnsteal-received': ['dnsteal.domain.received']}  "
      ]
     },
     "execution_count": 7,
     "metadata": {},
     "output_type": "execute_result"
    }
   ],
   "source": [
    "# load true labels from json\n",
    "df_true_labels = load_true_labels(path_russellmitchell + path_true_labels_file)\n",
    "\n",
    "df_true_labels.head(10)"
   ]
  },
  {
   "cell_type": "code",
   "execution_count": 8,
   "metadata": {},
   "outputs": [],
   "source": [
    "# Add the true labels to the dataset\n",
    "df_raw = add_binary_true_labels_to_dataset(df_raw, df_true_labels)"
   ]
  },
  {
   "cell_type": "code",
   "execution_count": 9,
   "metadata": {},
   "outputs": [
    {
     "data": {
      "text/html": [
       "<div>\n",
       "<style scoped>\n",
       "    .dataframe tbody tr th:only-of-type {\n",
       "        vertical-align: middle;\n",
       "    }\n",
       "\n",
       "    .dataframe tbody tr th {\n",
       "        vertical-align: top;\n",
       "    }\n",
       "\n",
       "    .dataframe thead th {\n",
       "        text-align: right;\n",
       "    }\n",
       "</style>\n",
       "<table border=\"1\" class=\"dataframe\">\n",
       "  <thead>\n",
       "    <tr style=\"text-align: right;\">\n",
       "      <th></th>\n",
       "      <th>0</th>\n",
       "      <th>true_type</th>\n",
       "      <th>labels</th>\n",
       "    </tr>\n",
       "  </thead>\n",
       "  <tbody>\n",
       "    <tr>\n",
       "      <th>0</th>\n",
       "      <td>Jan 21 00:00:09 dnsmasq[3468]: query[A] 3x6-.596-.IunWTzebVlyAhhHj*ZfWjOBun1zAf*Wgpq-.YarqcF7oovex5JXZQp35nThgDU1Q3p3lT/-.DM6Vx/vcq3AkrO4Xh2kjojk8RCiDE2wjSv-.gY6ONv8eNmDck8gGwJ8fU3PPctbthfeDZT-.cu...</td>\n",
       "      <td>1</td>\n",
       "      <td>['dnsteal', 'attacker', 'dnsteal-received']</td>\n",
       "    </tr>\n",
       "    <tr>\n",
       "      <th>1</th>\n",
       "      <td>Jan 21 00:00:09 dnsmasq[3468]: forwarded 3x6-.596-.IunWTzebVlyAhhHj*ZfWjOBun1zAf*Wgpq-.YarqcF7oovex5JXZQp35nThgDU1Q3p3lT/-.DM6Vx/vcq3AkrO4Xh2kjojk8RCiDE2wjSv-.gY6ONv8eNmDck8gGwJ8fU3PPctbthfeDZT-.c...</td>\n",
       "      <td>1</td>\n",
       "      <td>['dnsteal', 'attacker', 'dnsteal-received']</td>\n",
       "    </tr>\n",
       "    <tr>\n",
       "      <th>2</th>\n",
       "      <td>Jan 21 00:00:09 dnsmasq[3468]: reply 3x6-.596-.IunWTzebVlyAhhHj*ZfWjOBun1zAf*Wgpq-.YarqcF7oovex5JXZQp35nThgDU1Q3p3lT/-.DM6Vx/vcq3AkrO4Xh2kjojk8RCiDE2wjSv-.gY6ONv8eNmDck8gGwJ8fU3PPctbthfeDZT-.custo...</td>\n",
       "      <td>1</td>\n",
       "      <td>['dnsteal', 'attacker', 'dnsteal-received']</td>\n",
       "    </tr>\n",
       "    <tr>\n",
       "      <th>3</th>\n",
       "      <td>Jan 21 00:00:31 dnsmasq[3468]: query[A] 3x6-.597-.L**fA/ib4pGEIb5*uJ223L5A/pWGilEyrR-.u9lQ3wFEj1tPwCHh73wG6GKKEMkqDT/d*3-.LvX0RzIuTHdNz11Xyw21NB8jaa8CNw7CaC-.yai016WDS1Ypa5Tr/uckb0Hv2k9C1eU7Og-.cu...</td>\n",
       "      <td>1</td>\n",
       "      <td>['dnsteal', 'attacker', 'dnsteal-received']</td>\n",
       "    </tr>\n",
       "    <tr>\n",
       "      <th>4</th>\n",
       "      <td>Jan 21 00:00:31 dnsmasq[3468]: forwarded 3x6-.597-.L**fA/ib4pGEIb5*uJ223L5A/pWGilEyrR-.u9lQ3wFEj1tPwCHh73wG6GKKEMkqDT/d*3-.LvX0RzIuTHdNz11Xyw21NB8jaa8CNw7CaC-.yai016WDS1Ypa5Tr/uckb0Hv2k9C1eU7Og-.c...</td>\n",
       "      <td>1</td>\n",
       "      <td>['dnsteal', 'attacker', 'dnsteal-received']</td>\n",
       "    </tr>\n",
       "  </tbody>\n",
       "</table>\n",
       "</div>"
      ],
      "text/plain": [
       "                                                                                                                                                                                                         0  \\\n",
       "0  Jan 21 00:00:09 dnsmasq[3468]: query[A] 3x6-.596-.IunWTzebVlyAhhHj*ZfWjOBun1zAf*Wgpq-.YarqcF7oovex5JXZQp35nThgDU1Q3p3lT/-.DM6Vx/vcq3AkrO4Xh2kjojk8RCiDE2wjSv-.gY6ONv8eNmDck8gGwJ8fU3PPctbthfeDZT-.cu...   \n",
       "1  Jan 21 00:00:09 dnsmasq[3468]: forwarded 3x6-.596-.IunWTzebVlyAhhHj*ZfWjOBun1zAf*Wgpq-.YarqcF7oovex5JXZQp35nThgDU1Q3p3lT/-.DM6Vx/vcq3AkrO4Xh2kjojk8RCiDE2wjSv-.gY6ONv8eNmDck8gGwJ8fU3PPctbthfeDZT-.c...   \n",
       "2  Jan 21 00:00:09 dnsmasq[3468]: reply 3x6-.596-.IunWTzebVlyAhhHj*ZfWjOBun1zAf*Wgpq-.YarqcF7oovex5JXZQp35nThgDU1Q3p3lT/-.DM6Vx/vcq3AkrO4Xh2kjojk8RCiDE2wjSv-.gY6ONv8eNmDck8gGwJ8fU3PPctbthfeDZT-.custo...   \n",
       "3  Jan 21 00:00:31 dnsmasq[3468]: query[A] 3x6-.597-.L**fA/ib4pGEIb5*uJ223L5A/pWGilEyrR-.u9lQ3wFEj1tPwCHh73wG6GKKEMkqDT/d*3-.LvX0RzIuTHdNz11Xyw21NB8jaa8CNw7CaC-.yai016WDS1Ypa5Tr/uckb0Hv2k9C1eU7Og-.cu...   \n",
       "4  Jan 21 00:00:31 dnsmasq[3468]: forwarded 3x6-.597-.L**fA/ib4pGEIb5*uJ223L5A/pWGilEyrR-.u9lQ3wFEj1tPwCHh73wG6GKKEMkqDT/d*3-.LvX0RzIuTHdNz11Xyw21NB8jaa8CNw7CaC-.yai016WDS1Ypa5Tr/uckb0Hv2k9C1eU7Og-.c...   \n",
       "\n",
       "  true_type                                       labels  \n",
       "0         1  ['dnsteal', 'attacker', 'dnsteal-received']  \n",
       "1         1  ['dnsteal', 'attacker', 'dnsteal-received']  \n",
       "2         1  ['dnsteal', 'attacker', 'dnsteal-received']  \n",
       "3         1  ['dnsteal', 'attacker', 'dnsteal-received']  \n",
       "4         1  ['dnsteal', 'attacker', 'dnsteal-received']  "
      ]
     },
     "execution_count": 9,
     "metadata": {},
     "output_type": "execute_result"
    }
   ],
   "source": [
    "df_raw.head()"
   ]
  },
  {
   "cell_type": "code",
   "execution_count": 10,
   "metadata": {},
   "outputs": [
    {
     "name": "stdout",
     "output_type": "stream",
     "text": [
      "<class 'pandas.core.frame.DataFrame'>\n",
      "RangeIndex: 275900 entries, 0 to 275899\n",
      "Data columns (total 3 columns):\n",
      " #   Column     Non-Null Count   Dtype \n",
      "---  ------     --------------   ----- \n",
      " 0   0          275900 non-null  object\n",
      " 1   true_type  54035 non-null   object\n",
      " 2   labels     54035 non-null   object\n",
      "dtypes: object(3)\n",
      "memory usage: 6.3+ MB\n"
     ]
    }
   ],
   "source": [
    "df_raw.info()"
   ]
  },
  {
   "cell_type": "code",
   "execution_count": 11,
   "metadata": {},
   "outputs": [
    {
     "data": {
      "text/html": [
       "<div>\n",
       "<style scoped>\n",
       "    .dataframe tbody tr th:only-of-type {\n",
       "        vertical-align: middle;\n",
       "    }\n",
       "\n",
       "    .dataframe tbody tr th {\n",
       "        vertical-align: top;\n",
       "    }\n",
       "\n",
       "    .dataframe thead th {\n",
       "        text-align: right;\n",
       "    }\n",
       "</style>\n",
       "<table border=\"1\" class=\"dataframe\">\n",
       "  <thead>\n",
       "    <tr style=\"text-align: right;\">\n",
       "      <th></th>\n",
       "      <th>0</th>\n",
       "      <th>true_type</th>\n",
       "      <th>labels</th>\n",
       "    </tr>\n",
       "  </thead>\n",
       "  <tbody>\n",
       "    <tr>\n",
       "      <th>count</th>\n",
       "      <td>275900</td>\n",
       "      <td>54035</td>\n",
       "      <td>54035</td>\n",
       "    </tr>\n",
       "    <tr>\n",
       "      <th>unique</th>\n",
       "      <td>193777</td>\n",
       "      <td>1</td>\n",
       "      <td>9</td>\n",
       "    </tr>\n",
       "    <tr>\n",
       "      <th>top</th>\n",
       "      <td>Jan 21 17:26:36 dnsmasq[3468]: query[AAAA] e6410.d.akamaiedge.net from 10.143.1.78</td>\n",
       "      <td>1</td>\n",
       "      <td>['dnsteal', 'attacker', 'dnsteal-received']</td>\n",
       "    </tr>\n",
       "    <tr>\n",
       "      <th>freq</th>\n",
       "      <td>80</td>\n",
       "      <td>54035</td>\n",
       "      <td>53006</td>\n",
       "    </tr>\n",
       "  </tbody>\n",
       "</table>\n",
       "</div>"
      ],
      "text/plain": [
       "                                                                                         0  \\\n",
       "count                                                                               275900   \n",
       "unique                                                                              193777   \n",
       "top     Jan 21 17:26:36 dnsmasq[3468]: query[AAAA] e6410.d.akamaiedge.net from 10.143.1.78   \n",
       "freq                                                                                    80   \n",
       "\n",
       "       true_type                                       labels  \n",
       "count      54035                                        54035  \n",
       "unique         1                                            9  \n",
       "top            1  ['dnsteal', 'attacker', 'dnsteal-received']  \n",
       "freq       54035                                        53006  "
      ]
     },
     "execution_count": 11,
     "metadata": {},
     "output_type": "execute_result"
    }
   ],
   "source": [
    "df_raw.describe()"
   ]
  },
  {
   "cell_type": "code",
   "execution_count": 12,
   "metadata": {},
   "outputs": [
    {
     "data": {
      "text/html": [
       "<div>\n",
       "<style scoped>\n",
       "    .dataframe tbody tr th:only-of-type {\n",
       "        vertical-align: middle;\n",
       "    }\n",
       "\n",
       "    .dataframe tbody tr th {\n",
       "        vertical-align: top;\n",
       "    }\n",
       "\n",
       "    .dataframe thead th {\n",
       "        text-align: right;\n",
       "    }\n",
       "</style>\n",
       "<table border=\"1\" class=\"dataframe\">\n",
       "  <thead>\n",
       "    <tr style=\"text-align: right;\">\n",
       "      <th></th>\n",
       "      <th>0</th>\n",
       "      <th>true_type</th>\n",
       "      <th>labels</th>\n",
       "    </tr>\n",
       "  </thead>\n",
       "  <tbody>\n",
       "    <tr>\n",
       "      <th>count</th>\n",
       "      <td>275900</td>\n",
       "      <td>54035</td>\n",
       "      <td>54035</td>\n",
       "    </tr>\n",
       "    <tr>\n",
       "      <th>unique</th>\n",
       "      <td>193777</td>\n",
       "      <td>1</td>\n",
       "      <td>9</td>\n",
       "    </tr>\n",
       "    <tr>\n",
       "      <th>top</th>\n",
       "      <td>Jan 21 17:26:36 dnsmasq[3468]: query[AAAA] e6410.d.akamaiedge.net from 10.143.1.78</td>\n",
       "      <td>1</td>\n",
       "      <td>['dnsteal', 'attacker', 'dnsteal-received']</td>\n",
       "    </tr>\n",
       "    <tr>\n",
       "      <th>freq</th>\n",
       "      <td>80</td>\n",
       "      <td>54035</td>\n",
       "      <td>53006</td>\n",
       "    </tr>\n",
       "  </tbody>\n",
       "</table>\n",
       "</div>"
      ],
      "text/plain": [
       "                                                                                         0  \\\n",
       "count                                                                               275900   \n",
       "unique                                                                              193777   \n",
       "top     Jan 21 17:26:36 dnsmasq[3468]: query[AAAA] e6410.d.akamaiedge.net from 10.143.1.78   \n",
       "freq                                                                                    80   \n",
       "\n",
       "       true_type                                       labels  \n",
       "count      54035                                        54035  \n",
       "unique         1                                            9  \n",
       "top            1  ['dnsteal', 'attacker', 'dnsteal-received']  \n",
       "freq       54035                                        53006  "
      ]
     },
     "execution_count": 12,
     "metadata": {},
     "output_type": "execute_result"
    }
   ],
   "source": [
    "df_raw.describe(include=\"object\")"
   ]
  },
  {
   "cell_type": "code",
   "execution_count": 13,
   "metadata": {},
   "outputs": [
    {
     "data": {
      "text/plain": [
       "0                 0\n",
       "true_type    221865\n",
       "labels       221865\n",
       "dtype: int64"
      ]
     },
     "execution_count": 13,
     "metadata": {},
     "output_type": "execute_result"
    }
   ],
   "source": [
    "# Check for null values\n",
    "df_raw.isnull().sum()"
   ]
  },
  {
   "cell_type": "code",
   "execution_count": 14,
   "metadata": {},
   "outputs": [
    {
     "data": {
      "text/plain": [
       "82123"
      ]
     },
     "execution_count": 14,
     "metadata": {},
     "output_type": "execute_result"
    }
   ],
   "source": [
    "# Check for duplicates\n",
    "# 1. santos | inet-firewall | dnsmasq.log               duplicates: 68286, isnull: true_type: 236241, labels: 236241\n",
    "\n",
    "df_raw.duplicated().sum()"
   ]
  },
  {
   "cell_type": "code",
   "execution_count": 15,
   "metadata": {},
   "outputs": [
    {
     "data": {
      "text/plain": [
       "0         False\n",
       "1         False\n",
       "2         False\n",
       "3         False\n",
       "4         False\n",
       "          ...  \n",
       "275895    False\n",
       "275896    False\n",
       "275897    False\n",
       "275898    False\n",
       "275899    False\n",
       "Length: 275900, dtype: bool"
      ]
     },
     "execution_count": 15,
     "metadata": {},
     "output_type": "execute_result"
    }
   ],
   "source": [
    "# -> Duplicates normal if logs are written quickly\n",
    "# TODO: investigate which lines are duplicated and how to treat them. e.g. combine them and keep info about count or keep them as they are\n",
    "\n",
    "df_raw.duplicated()"
   ]
  },
  {
   "cell_type": "code",
   "execution_count": 16,
   "metadata": {},
   "outputs": [
    {
     "data": {
      "text/plain": [
       "0"
      ]
     },
     "execution_count": 16,
     "metadata": {},
     "output_type": "execute_result"
    }
   ],
   "source": [
    "# IMPORTANT: For CountVectorizer we will remove duplicates #TODO: Test later if this is a good idea\n",
    "\n",
    "df_raw = df_raw.drop_duplicates()\n",
    "df_raw.duplicated().sum()\n"
   ]
  },
  {
   "cell_type": "code",
   "execution_count": 17,
   "metadata": {},
   "outputs": [],
   "source": [
    "# Rename column name\n",
    "df_raw.columns = ['raw', 'true_type', 'labels']"
   ]
  },
  {
   "cell_type": "code",
   "execution_count": 18,
   "metadata": {},
   "outputs": [],
   "source": [
    "import string\n",
    "\n",
    "# Create a translation table to replace all punctuation with \"_\" to be used as preprocessor for CountVectorizer\n",
    "def custom_preprocessor(text):\n",
    "    # Create a translation table to replace all punctuation with \"_\"\n",
    "    translator = str.maketrans(string.punctuation, '_' * len(string.punctuation))\n",
    "    # Apply the translation\n",
    "    return text.translate(translator).lower()"
   ]
  },
  {
   "cell_type": "code",
   "execution_count": null,
   "metadata": {},
   "outputs": [],
   "source": [
    "# Load Vectorizer\n",
    "import joblib\n",
    "\n",
    "vectorizer_path = \"models/punctuation_removed_vectorizer.joblib\"\n",
    "\n",
    "vectorizer = joblib.load(vectorizer_path)"
   ]
  },
  {
   "cell_type": "code",
   "execution_count": 25,
   "metadata": {},
   "outputs": [],
   "source": [
    "# Apply the custom preprocessor to the raw column using the same CountVectorizer\n",
    "\n",
    "X_unseen = vectorizer.transform(df_raw['raw'])"
   ]
  },
  {
   "cell_type": "code",
   "execution_count": 52,
   "metadata": {},
   "outputs": [],
   "source": [
    "# Load the classifiers\n",
    "\n",
    "classifier_names = [\n",
    "    \"Logistic Regression\",\n",
    "    \"Random Forest\",\n",
    "    #\"Naive Bayes\",\n",
    "    \"SVM\",\n",
    "    #\"Decision Tree\",\n",
    "    #\"KNN\",\n",
    "    #\"AdaBoost\"\n",
    "]\n",
    "\n",
    "classifier_paths = {name: f\"models/punctuation_removed_{name.replace(' ', '_')}.joblib\" for name in classifier_names}\n",
    "classifiers = {name: joblib.load(path) for name, path in classifier_paths.items()}"
   ]
  },
  {
   "cell_type": "code",
   "execution_count": 53,
   "metadata": {},
   "outputs": [
    {
     "data": {
      "text/plain": [
       "{'Logistic Regression': LogisticRegression(max_iter=1000),\n",
       " 'Random Forest': RandomForestClassifier(),\n",
       " 'SVM': SVC()}"
      ]
     },
     "execution_count": 53,
     "metadata": {},
     "output_type": "execute_result"
    }
   ],
   "source": [
    "classifiers"
   ]
  },
  {
   "cell_type": "code",
   "execution_count": 54,
   "metadata": {},
   "outputs": [
    {
     "name": "stdout",
     "output_type": "stream",
     "text": [
      "\n",
      "---- Predicting with Logistic Regression ----\n",
      "Classification Report for Logistic Regression:\n",
      "\n",
      "              precision    recall  f1-score   support\n",
      "\n",
      "           0       0.72      1.00      0.84    140092\n",
      "           1       1.00      0.00      0.00     53685\n",
      "\n",
      "    accuracy                           0.72    193777\n",
      "   macro avg       0.86      0.50      0.42    193777\n",
      "weighted avg       0.80      0.72      0.61    193777\n",
      "\n",
      "Confusion Matrix for Logistic Regression:\n",
      "\n",
      "[[140092      0]\n",
      " [ 53682      3]]\n",
      "\n",
      "---- Predicting with Random Forest ----\n",
      "Classification Report for Random Forest:\n",
      "\n",
      "              precision    recall  f1-score   support\n",
      "\n",
      "           0       0.72      1.00      0.84    140092\n",
      "           1       0.00      0.00      0.00     53685\n",
      "\n",
      "    accuracy                           0.72    193777\n",
      "   macro avg       0.36      0.50      0.42    193777\n",
      "weighted avg       0.52      0.72      0.61    193777\n",
      "\n",
      "Confusion Matrix for Random Forest:\n",
      "\n",
      "[[140092      0]\n",
      " [ 53685      0]]\n",
      "\n",
      "---- Predicting with SVM ----\n"
     ]
    },
    {
     "name": "stderr",
     "output_type": "stream",
     "text": [
      "c:\\Users\\timgi\\anaconda3\\Lib\\site-packages\\sklearn\\metrics\\_classification.py:1344: UndefinedMetricWarning: Precision and F-score are ill-defined and being set to 0.0 in labels with no predicted samples. Use `zero_division` parameter to control this behavior.\n",
      "  _warn_prf(average, modifier, msg_start, len(result))\n",
      "c:\\Users\\timgi\\anaconda3\\Lib\\site-packages\\sklearn\\metrics\\_classification.py:1344: UndefinedMetricWarning: Precision and F-score are ill-defined and being set to 0.0 in labels with no predicted samples. Use `zero_division` parameter to control this behavior.\n",
      "  _warn_prf(average, modifier, msg_start, len(result))\n",
      "c:\\Users\\timgi\\anaconda3\\Lib\\site-packages\\sklearn\\metrics\\_classification.py:1344: UndefinedMetricWarning: Precision and F-score are ill-defined and being set to 0.0 in labels with no predicted samples. Use `zero_division` parameter to control this behavior.\n",
      "  _warn_prf(average, modifier, msg_start, len(result))\n"
     ]
    },
    {
     "name": "stdout",
     "output_type": "stream",
     "text": [
      "Classification Report for SVM:\n",
      "\n",
      "              precision    recall  f1-score   support\n",
      "\n",
      "           0       0.72      1.00      0.84    140092\n",
      "           1       1.00      0.00      0.00     53685\n",
      "\n",
      "    accuracy                           0.72    193777\n",
      "   macro avg       0.86      0.50      0.42    193777\n",
      "weighted avg       0.80      0.72      0.61    193777\n",
      "\n",
      "Confusion Matrix for SVM:\n",
      "\n",
      "[[140092      0]\n",
      " [ 53682      3]]\n",
      "\n",
      "All Attack-Related Entries:\n",
      "                                                                                                                                                                                                       raw  \\\n",
      "0  Jan 21 11:21:23 dnsmasq[3468]: query[A] 3x6-.890-.ztjwwRtsJwtilkzH4d9mzx4hC95ttsj8b8-.*gLQz4QQCGinaTJJOqrX7QqUPZpYlE/o27-.OVQkfhZNZe/vejr8AF/fvSLDyE*t1Uan4k-.jzP1ePKib3rxdPucGNixM0NoI*ACJoU*0t-.cu...   \n",
      "1  Jan 21 11:21:23 dnsmasq[3468]: forwarded 3x6-.890-.ztjwwRtsJwtilkzH4d9mzx4hC95ttsj8b8-.*gLQz4QQCGinaTJJOqrX7QqUPZpYlE/o27-.OVQkfhZNZe/vejr8AF/fvSLDyE*t1Uan4k-.jzP1ePKib3rxdPucGNixM0NoI*ACJoU*0t-.c...   \n",
      "2  Jan 21 11:21:23 dnsmasq[3468]: reply 3x6-.890-.ztjwwRtsJwtilkzH4d9mzx4hC95ttsj8b8-.*gLQz4QQCGinaTJJOqrX7QqUPZpYlE/o27-.OVQkfhZNZe/vejr8AF/fvSLDyE*t1Uan4k-.jzP1ePKib3rxdPucGNixM0NoI*ACJoU*0t-.custo...   \n",
      "3  Jan 21 11:21:23 dnsmasq[3468]: query[A] 3x6-.890-.ztjwwRtsJwtilkzH4d9mzx4hC95ttsj8b8-.*gLQz4QQCGinaTJJOqrX7QqUPZpYlE/o27-.OVQkfhZNZe/vejr8AF/fvSLDyE*t1Uan4k-.jzP1ePKib3rxdPucGNixM0NoI*ACJoU*0t-.cu...   \n",
      "4  Jan 21 11:21:23 dnsmasq[3468]: forwarded 3x6-.890-.ztjwwRtsJwtilkzH4d9mzx4hC95ttsj8b8-.*gLQz4QQCGinaTJJOqrX7QqUPZpYlE/o27-.OVQkfhZNZe/vejr8AF/fvSLDyE*t1Uan4k-.jzP1ePKib3rxdPucGNixM0NoI*ACJoU*0t-.c...   \n",
      "5  Jan 21 11:21:23 dnsmasq[3468]: reply 3x6-.890-.ztjwwRtsJwtilkzH4d9mzx4hC95ttsj8b8-.*gLQz4QQCGinaTJJOqrX7QqUPZpYlE/o27-.OVQkfhZNZe/vejr8AF/fvSLDyE*t1Uan4k-.jzP1ePKib3rxdPucGNixM0NoI*ACJoU*0t-.custo...   \n",
      "\n",
      "  confidence_score           classifier  \n",
      "0         0.887767  Logistic Regression  \n",
      "1         0.974162  Logistic Regression  \n",
      "2         0.733576  Logistic Regression  \n",
      "3    not_supported                  SVM  \n",
      "4    not_supported                  SVM  \n",
      "5    not_supported                  SVM  \n"
     ]
    }
   ],
   "source": [
    "# For each classifier, predict the unseen data\n",
    "from sklearn.metrics import classification_report, confusion_matrix\n",
    "\n",
    "attack_related_entries = pd.DataFrame()\n",
    "\n",
    "for name, classifier in classifiers.items():\n",
    "    print(f\"\\n---- Predicting with {name} ----\")\n",
    "    \n",
    "    y_pred = classifier.predict(X_unseen)\n",
    "    support_proba = hasattr(classifier, \"predict_proba\")\n",
    "\n",
    "    # If the classifier supports predict_proba, add original entry and confidence score\n",
    "    if(support_proba):\n",
    "        probabilities = classifier.predict_proba(X_unseen)[:, 1]\n",
    "\n",
    "        # Filter attack-related entries\n",
    "        attack_indices = [i for i, label, in enumerate(y_pred) if label == 1]\n",
    "        attack_data = {\n",
    "            \"raw\" : df_raw.iloc[attack_indices][\"raw\"],\n",
    "            \"confidence_score\" : probabilities[attack_indices]\n",
    "        }\n",
    "    \n",
    "    # If the classifier does not support predict_proba, we cannot provide confidence scores\n",
    "    else:\n",
    "        attack_indices = [i for i, label, in enumerate(y_pred) if label == 1]\n",
    "        attack_data = {\n",
    "            \"raw\" : df_raw.iloc[attack_indices][\"raw\"],\n",
    "            \"confidence_score\" : \"not_supported\"\n",
    "        }\n",
    "\n",
    "    # Append the filtered attack-related entries to the DataFrame\n",
    "    attack_related_df = pd.DataFrame(attack_data)\n",
    "    attack_related_df[\"classifier\"] = name  # Add a column for the classifier name\n",
    "    attack_related_entries = pd.concat([attack_related_entries, attack_related_df], ignore_index=True)\n",
    "\n",
    "\n",
    "\n",
    "    if(\"true_type\" in df_raw.columns):\n",
    "        y_true_labels = df_raw[\"true_type\"].fillna(0).astype(int)\n",
    "        print(f\"Classification Report for {name}:\\n\")\n",
    "        print(classification_report(y_true_labels, y_pred))\n",
    "        print(f\"Confusion Matrix for {name}:\\n\")\n",
    "        print(confusion_matrix(y_true_labels, y_pred))\n",
    "\n",
    "\n",
    "# Display all attack-related entries\n",
    "print(\"\\nAll Attack-Related Entries:\")\n",
    "print(attack_related_entries)\n",
    "    "
   ]
  },
  {
   "cell_type": "code",
   "execution_count": 57,
   "metadata": {},
   "outputs": [
    {
     "data": {
      "text/plain": [
       "(6, 3)"
      ]
     },
     "execution_count": 57,
     "metadata": {},
     "output_type": "execute_result"
    }
   ],
   "source": [
    "attack_related_entries.shape"
   ]
  }
 ],
 "metadata": {
  "kernelspec": {
   "display_name": "base",
   "language": "python",
   "name": "python3"
  },
  "language_info": {
   "codemirror_mode": {
    "name": "ipython",
    "version": 3
   },
   "file_extension": ".py",
   "mimetype": "text/x-python",
   "name": "python",
   "nbconvert_exporter": "python",
   "pygments_lexer": "ipython3",
   "version": "3.11.7"
  }
 },
 "nbformat": 4,
 "nbformat_minor": 2
}
