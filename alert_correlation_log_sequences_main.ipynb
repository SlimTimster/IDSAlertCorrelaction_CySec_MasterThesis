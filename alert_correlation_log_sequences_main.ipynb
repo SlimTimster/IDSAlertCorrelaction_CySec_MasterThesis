{
 "cells": [
  {
   "cell_type": "markdown",
   "metadata": {},
   "source": [
    "## Global parameters and notes"
   ]
  },
  {
   "cell_type": "code",
   "execution_count": 2,
   "metadata": {},
   "outputs": [],
   "source": [
    "# Global Imports\n",
    "import pandas as pd\n",
    "import numpy as np\n",
    "from dotenv import load_dotenv\n",
    "\n",
    "# Custom Imports\n",
    "from helpers.data_helper import load_data_robust, load_models_from_disk, classify_unseen_data"
   ]
  },
  {
   "cell_type": "code",
   "execution_count": 3,
   "metadata": {},
   "outputs": [],
   "source": [
    "PATH_DATASET_TO_CLASSIFY = \"../AIT_LD-v2/russellmitchell\"\n",
    "\n",
    "#PATH_DATASET_TO_CLASSIFY = \"../AIT_LD-v2/harrison\"\n",
    "#PATH_DATASET_TO_CLASSIFY = \"../AIT_LD-v2/shaw\"    \n",
    "#PATH_DATASET_TO_CLASSIFY = \"../AIT_LD-v2/wheeler\" \n",
    "#PATH_DATASET_TO_CLASSIFY = \"../AIT_LD-v2/wardbeck\"\n",
    "#PATH_DATASET_TO_CLASSIFY = \"../AIT_LD-v2/fox\"     \n",
    "#PATH_DATASET_TO_CLASSIFY = \"../AIT_LD-v2/wilson\"  \n",
    "\n",
    "# -> santos was used to train the models"
   ]
  },
  {
   "cell_type": "markdown",
   "metadata": {},
   "source": [
    "## Step by step:\n",
    "\n",
    "1. Sort all logs by timestamps\n",
    "2. Apply time window grouping to get log sequences\n",
    "3. Shuffle sequences, split into train and test sets (80/20) or train, test, validation (70/20/10)\n",
    "\n",
    "\n",
    "\n",
    "* A log sequence is abnormal if it contains at least one abnormal log line"
   ]
  }
 ],
 "metadata": {
  "kernelspec": {
   "display_name": "base",
   "language": "python",
   "name": "python3"
  },
  "language_info": {
   "codemirror_mode": {
    "name": "ipython",
    "version": 3
   },
   "file_extension": ".py",
   "mimetype": "text/x-python",
   "name": "python",
   "nbconvert_exporter": "python",
   "pygments_lexer": "ipython3",
   "version": "3.11.7"
  }
 },
 "nbformat": 4,
 "nbformat_minor": 2
}
